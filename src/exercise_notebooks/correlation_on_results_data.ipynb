{
 "cells": [
  {
   "cell_type": "code",
   "execution_count": 1,
   "id": "49325da5",
   "metadata": {},
   "outputs": [],
   "source": [
    "from scipy import stats\n",
    "import matplotlib.pyplot as plt\n",
    "import pandas as pd\n",
    "import numpy as np\n",
    "import os\n",
    "os.chdir('../../')\n",
    "from src.utils.util import get_labedict"
   ]
  },
  {
   "cell_type": "markdown",
   "id": "e2bae8ef",
   "metadata": {},
   "source": [
    "- Result From\n",
    "    - https://www.researchgate.net/figure/Evaluation-results-of-the-PASCAL-VOC-2012-test-set_tbl1_315635038"
   ]
  },
  {
   "cell_type": "code",
   "execution_count": 2,
   "id": "0b8516b1",
   "metadata": {},
   "outputs": [],
   "source": [
    "results_a = \"\"\"Method Bkg Aero Bike Bird Boat Bottle Bus Car Cat Chair Cow\n",
    "FCN-8s 91.2 76.8 34.2 68.9 49.4 60.3 75.3 74.7 77.6 21.4 62.5\n",
    "FCN-GS 90.9 80.4 33.4 70.8 53.0 62.9 79.7 76.4 79.1 24.0 65.4\n",
    "FCN-GS-v2 91.3 79.8 33.9 74.0 55.6 64.7 79.1 76.8 80.3 25.3 65.7\n",
    "FCN-DBSCAN 91.2 82.2 33.1 73.3 55.6 63.3 79.8 76.1 78.3 24.5 64.8\n",
    "FCN-DBSCAN-v2 92.0 78.5 32.4 76.9 56.6 64.6 80.6 74.7 77.8 26.7 68.4\n",
    "DeepLab-CRF 92.1 78.4 33.1 78.2 55.6 65.3 81.3 75.5 78.6 25.3 69.2\n",
    "DeepLab-CRF-GS 92.3 81.4 34.1 79.1 58.3 65.8 81.3 77.1 80.5 28.9 69.1\n",
    "DeepLab-CRF-GS-v2 92.3 82.3 34.2 79.0 58.3 66.0 82.1 77.7 81.8 29.1 68.5\"\"\"\n",
    "\n",
    "results_b = \"\"\"Method Table Dog Horse Mbk Person Plant Sheep Sofa Train TV Mean\n",
    "FCN-8s 46.8 71.8 63.9 76.5 73.9 45.2 72.4 37.4 70.9 55.1 62.2\n",
    "FCN-GS 52.9 73.6 66.9 75.6 75.2 46.9 72.5 42.0 70.6 59.6 64.4\n",
    "FCN-GS-v2 52.7 74.0 67.3 76.0 75.4 48.8 74.7 44.2 72.6 58.8 65.3\n",
    "FCN-DBSCAN 53.6 73.9 66.6 76.9 75.0 47.6 73.2 43.4 73.2 59.0 65.0\n",
    "FCN-DBSCAN-v2 52.1 73.6 68.6 78.4 76.8 54.0 76.9 46.1 72.2 57.3 65.9\n",
    "DeepLab-CRF 52.7 75.2 69.0 79.1 77.6 54.7 78.3 45.1 73.3 56.2 66.4\n",
    "DeepLab-CRF-GS 56.1 75.9 68.8 78.9 78.0 53.7 78.7 46.3 73.8 58.9 67.5\n",
    "DeepLab-CRF-GS-v2 56.3 77.0 69.1 79.7 78.0 53.5 78.2 47.0 74.9 60.4 67.9\"\"\"\n",
    "\n",
    "results_a = results_a.split('\\n')\n",
    "results_b = results_b.split('\\n')\n",
    "results_a = [i.split() for i in results_a]\n",
    "results_b = [i.split() for i in results_b]\n",
    "\n",
    "df_a = pd.DataFrame(results_a[1:], columns=results_a[0])\n",
    "df_b = pd.DataFrame(results_b[1:], columns=results_b[0])\n",
    "\n",
    "df_a = df_a.T\n",
    "df_a.columns = df_a.iloc[0]\n",
    "df_a = df_a.iloc[1:]\n",
    "\n",
    "df_b = df_b.T\n",
    "df_b.columns = df_b.iloc[0]\n",
    "df_b = df_b.iloc[1:]\n",
    "\n",
    "result_df = pd.concat([df_a,df_b])\n",
    "result_df = result_df.astype(float)"
   ]
  },
  {
   "cell_type": "code",
   "execution_count": 3,
   "id": "79eb71d2",
   "metadata": {},
   "outputs": [],
   "source": [
    "# result_df.to_csv('./data/previous_results.csv')"
   ]
  },
  {
   "cell_type": "code",
   "execution_count": 4,
   "id": "7bf4eca4",
   "metadata": {},
   "outputs": [],
   "source": [
    "\n",
    "labeldict = get_labedict()\n",
    "label2num = labeldict['label2num']\n",
    "num2label = labeldict['num2label']\n",
    "labels = ['background']+list(label2num.keys())[:-2]"
   ]
  },
  {
   "cell_type": "code",
   "execution_count": 5,
   "id": "5138ce32",
   "metadata": {},
   "outputs": [],
   "source": [
    "\n",
    "result_df.index = labels + ['mean']\n",
    "train_df = pd.read_csv('./data/train_df.csv', index_col=0)"
   ]
  },
  {
   "cell_type": "code",
   "execution_count": 6,
   "id": "5f816c4e",
   "metadata": {},
   "outputs": [
    {
     "data": {
      "text/html": [
       "<div>\n",
       "<style scoped>\n",
       "    .dataframe tbody tr th:only-of-type {\n",
       "        vertical-align: middle;\n",
       "    }\n",
       "\n",
       "    .dataframe tbody tr th {\n",
       "        vertical-align: top;\n",
       "    }\n",
       "\n",
       "    .dataframe thead th {\n",
       "        text-align: right;\n",
       "    }\n",
       "</style>\n",
       "<table border=\"1\" class=\"dataframe\">\n",
       "  <thead>\n",
       "    <tr style=\"text-align: right;\">\n",
       "      <th></th>\n",
       "      <th>id</th>\n",
       "      <th>ftype</th>\n",
       "      <th>image_loc</th>\n",
       "      <th>mask_loc</th>\n",
       "      <th>height</th>\n",
       "      <th>width</th>\n",
       "      <th>area</th>\n",
       "      <th>aeroplane_sum</th>\n",
       "      <th>bicycle_sum</th>\n",
       "      <th>bird_sum</th>\n",
       "      <th>...</th>\n",
       "      <th>skf_major_rstate5_fold0</th>\n",
       "      <th>skf_major_rstate5_fold1</th>\n",
       "      <th>skf_major_rstate5_fold2</th>\n",
       "      <th>skf_major_rstate5_fold3</th>\n",
       "      <th>skf_major_rstate5_fold4</th>\n",
       "      <th>mskf_rstate5_fold0</th>\n",
       "      <th>mskf_rstate5_fold1</th>\n",
       "      <th>mskf_rstate5_fold2</th>\n",
       "      <th>mskf_rstate5_fold3</th>\n",
       "      <th>mskf_rstate5_fold4</th>\n",
       "    </tr>\n",
       "  </thead>\n",
       "  <tbody>\n",
       "    <tr>\n",
       "      <th>0</th>\n",
       "      <td>2007_000032</td>\n",
       "      <td>train</td>\n",
       "      <td>./data/VOCdevkit/VOC2012/JPEGImages/2007_00003...</td>\n",
       "      <td>./data/VOCdevkit/VOC2012/SegmentationClass/200...</td>\n",
       "      <td>281</td>\n",
       "      <td>500</td>\n",
       "      <td>140500</td>\n",
       "      <td>4734</td>\n",
       "      <td>0</td>\n",
       "      <td>0</td>\n",
       "      <td>...</td>\n",
       "      <td>train</td>\n",
       "      <td>train</td>\n",
       "      <td>train</td>\n",
       "      <td>train</td>\n",
       "      <td>val</td>\n",
       "      <td>train</td>\n",
       "      <td>train</td>\n",
       "      <td>train</td>\n",
       "      <td>train</td>\n",
       "      <td>val</td>\n",
       "    </tr>\n",
       "    <tr>\n",
       "      <th>1</th>\n",
       "      <td>2007_000039</td>\n",
       "      <td>train</td>\n",
       "      <td>./data/VOCdevkit/VOC2012/JPEGImages/2007_00003...</td>\n",
       "      <td>./data/VOCdevkit/VOC2012/SegmentationClass/200...</td>\n",
       "      <td>375</td>\n",
       "      <td>500</td>\n",
       "      <td>187500</td>\n",
       "      <td>0</td>\n",
       "      <td>0</td>\n",
       "      <td>0</td>\n",
       "      <td>...</td>\n",
       "      <td>val</td>\n",
       "      <td>train</td>\n",
       "      <td>train</td>\n",
       "      <td>train</td>\n",
       "      <td>train</td>\n",
       "      <td>val</td>\n",
       "      <td>train</td>\n",
       "      <td>train</td>\n",
       "      <td>train</td>\n",
       "      <td>train</td>\n",
       "    </tr>\n",
       "    <tr>\n",
       "      <th>2</th>\n",
       "      <td>2007_000063</td>\n",
       "      <td>train</td>\n",
       "      <td>./data/VOCdevkit/VOC2012/JPEGImages/2007_00006...</td>\n",
       "      <td>./data/VOCdevkit/VOC2012/SegmentationClass/200...</td>\n",
       "      <td>375</td>\n",
       "      <td>500</td>\n",
       "      <td>187500</td>\n",
       "      <td>0</td>\n",
       "      <td>0</td>\n",
       "      <td>0</td>\n",
       "      <td>...</td>\n",
       "      <td>train</td>\n",
       "      <td>train</td>\n",
       "      <td>train</td>\n",
       "      <td>train</td>\n",
       "      <td>val</td>\n",
       "      <td>train</td>\n",
       "      <td>train</td>\n",
       "      <td>train</td>\n",
       "      <td>val</td>\n",
       "      <td>train</td>\n",
       "    </tr>\n",
       "    <tr>\n",
       "      <th>3</th>\n",
       "      <td>2007_000068</td>\n",
       "      <td>train</td>\n",
       "      <td>./data/VOCdevkit/VOC2012/JPEGImages/2007_00006...</td>\n",
       "      <td>./data/VOCdevkit/VOC2012/SegmentationClass/200...</td>\n",
       "      <td>375</td>\n",
       "      <td>500</td>\n",
       "      <td>187500</td>\n",
       "      <td>0</td>\n",
       "      <td>0</td>\n",
       "      <td>16282</td>\n",
       "      <td>...</td>\n",
       "      <td>train</td>\n",
       "      <td>train</td>\n",
       "      <td>train</td>\n",
       "      <td>val</td>\n",
       "      <td>train</td>\n",
       "      <td>train</td>\n",
       "      <td>train</td>\n",
       "      <td>train</td>\n",
       "      <td>train</td>\n",
       "      <td>val</td>\n",
       "    </tr>\n",
       "    <tr>\n",
       "      <th>4</th>\n",
       "      <td>2007_000121</td>\n",
       "      <td>train</td>\n",
       "      <td>./data/VOCdevkit/VOC2012/JPEGImages/2007_00012...</td>\n",
       "      <td>./data/VOCdevkit/VOC2012/SegmentationClass/200...</td>\n",
       "      <td>375</td>\n",
       "      <td>500</td>\n",
       "      <td>187500</td>\n",
       "      <td>0</td>\n",
       "      <td>0</td>\n",
       "      <td>0</td>\n",
       "      <td>...</td>\n",
       "      <td>train</td>\n",
       "      <td>val</td>\n",
       "      <td>train</td>\n",
       "      <td>train</td>\n",
       "      <td>train</td>\n",
       "      <td>train</td>\n",
       "      <td>train</td>\n",
       "      <td>val</td>\n",
       "      <td>train</td>\n",
       "      <td>train</td>\n",
       "    </tr>\n",
       "  </tbody>\n",
       "</table>\n",
       "<p>5 rows × 177 columns</p>\n",
       "</div>"
      ],
      "text/plain": [
       "            id  ftype                                          image_loc  \\\n",
       "0  2007_000032  train  ./data/VOCdevkit/VOC2012/JPEGImages/2007_00003...   \n",
       "1  2007_000039  train  ./data/VOCdevkit/VOC2012/JPEGImages/2007_00003...   \n",
       "2  2007_000063  train  ./data/VOCdevkit/VOC2012/JPEGImages/2007_00006...   \n",
       "3  2007_000068  train  ./data/VOCdevkit/VOC2012/JPEGImages/2007_00006...   \n",
       "4  2007_000121  train  ./data/VOCdevkit/VOC2012/JPEGImages/2007_00012...   \n",
       "\n",
       "                                            mask_loc  height  width    area  \\\n",
       "0  ./data/VOCdevkit/VOC2012/SegmentationClass/200...     281    500  140500   \n",
       "1  ./data/VOCdevkit/VOC2012/SegmentationClass/200...     375    500  187500   \n",
       "2  ./data/VOCdevkit/VOC2012/SegmentationClass/200...     375    500  187500   \n",
       "3  ./data/VOCdevkit/VOC2012/SegmentationClass/200...     375    500  187500   \n",
       "4  ./data/VOCdevkit/VOC2012/SegmentationClass/200...     375    500  187500   \n",
       "\n",
       "   aeroplane_sum  bicycle_sum  bird_sum  ...  skf_major_rstate5_fold0  \\\n",
       "0           4734            0         0  ...                    train   \n",
       "1              0            0         0  ...                      val   \n",
       "2              0            0         0  ...                    train   \n",
       "3              0            0     16282  ...                    train   \n",
       "4              0            0         0  ...                    train   \n",
       "\n",
       "   skf_major_rstate5_fold1  skf_major_rstate5_fold2  skf_major_rstate5_fold3  \\\n",
       "0                    train                    train                    train   \n",
       "1                    train                    train                    train   \n",
       "2                    train                    train                    train   \n",
       "3                    train                    train                      val   \n",
       "4                      val                    train                    train   \n",
       "\n",
       "   skf_major_rstate5_fold4  mskf_rstate5_fold0  mskf_rstate5_fold1  \\\n",
       "0                      val               train               train   \n",
       "1                    train                 val               train   \n",
       "2                      val               train               train   \n",
       "3                    train               train               train   \n",
       "4                    train               train               train   \n",
       "\n",
       "   mskf_rstate5_fold2  mskf_rstate5_fold3  mskf_rstate5_fold4  \n",
       "0               train               train                 val  \n",
       "1               train               train               train  \n",
       "2               train                 val               train  \n",
       "3               train               train                 val  \n",
       "4                 val               train               train  \n",
       "\n",
       "[5 rows x 177 columns]"
      ]
     },
     "execution_count": 6,
     "metadata": {},
     "output_type": "execute_result"
    }
   ],
   "source": [
    "train_df.head()"
   ]
  },
  {
   "cell_type": "code",
   "execution_count": 7,
   "id": "4099253b",
   "metadata": {},
   "outputs": [],
   "source": [
    "\n",
    "prop_cols = [i for i in train_df.columns \n",
    "             if ('prop' in i) and not ('border' in i) and not ('background' in i)]\n",
    "pixel_cols = [i for i in train_df.columns \n",
    "            if ('sum' in i) and not ('border' in i) and not ('background' in i)]\n",
    "cnt_cols = [i for i in train_df.columns \n",
    "            if ('cnt' in i) and not ('border' in i) and not ('background' in i)]\n"
   ]
  },
  {
   "cell_type": "code",
   "execution_count": 8,
   "id": "c0c0f2ef",
   "metadata": {},
   "outputs": [
    {
     "name": "stderr",
     "output_type": "stream",
     "text": [
      "/tmp/ipykernel_343977/1571441352.py:3: FutureWarning: Dropping of nuisance columns in DataFrame reductions (with 'numeric_only=None') is deprecated; in a future version this will raise TypeError.  Select only valid columns before calling the reduction.\n",
      "  proportion_mean = train_df[prop_cols].mean()\n"
     ]
    }
   ],
   "source": [
    "freq_sum = train_df[cnt_cols].sum()\n",
    "\n",
    "proportion_mean = train_df[prop_cols].mean()\n",
    "nz_proportion_mean = train_df[prop_cols].replace(0,np.NaN).mean(numeric_only=True)\n",
    "\n",
    "pixel_mean = train_df[pixel_cols].mean()\n",
    "nz_pixel_mean = train_df[pixel_cols].replace(0,np.NaN).mean(numeric_only=True)\n",
    "\n",
    "# nz_proportion_mean = nz_proportion_mean.rename(lambda x: x.replace('prop', 'nz_prop'))\n",
    "# pixel_mean = pixel_mean.rename(lambda x: x.replace('sum', 'pix'))\n",
    "# nz_pixel_mean = nz_pixel_mean.rename(lambda x: x.replace('sum', 'nz_pix'))\n",
    "\n",
    "label_stats = [freq_sum, proportion_mean, nz_proportion_mean, pixel_mean, nz_pixel_mean]\n",
    "\n",
    "for i, label_stat in enumerate(label_stats) :    \n",
    "    label_stats[i] = label_stat.rename(lambda x: x.split('_')[0])\n",
    "    "
   ]
  },
  {
   "cell_type": "code",
   "execution_count": 9,
   "id": "57a42543",
   "metadata": {},
   "outputs": [
    {
     "data": {
      "text/html": [
       "<div>\n",
       "<style scoped>\n",
       "    .dataframe tbody tr th:only-of-type {\n",
       "        vertical-align: middle;\n",
       "    }\n",
       "\n",
       "    .dataframe tbody tr th {\n",
       "        vertical-align: top;\n",
       "    }\n",
       "\n",
       "    .dataframe thead th {\n",
       "        text-align: right;\n",
       "    }\n",
       "</style>\n",
       "<table border=\"1\" class=\"dataframe\">\n",
       "  <thead>\n",
       "    <tr style=\"text-align: right;\">\n",
       "      <th></th>\n",
       "      <th>aeroplane</th>\n",
       "      <th>bicycle</th>\n",
       "      <th>bird</th>\n",
       "      <th>boat</th>\n",
       "      <th>bottle</th>\n",
       "      <th>bus</th>\n",
       "      <th>car</th>\n",
       "      <th>cat</th>\n",
       "      <th>chair</th>\n",
       "      <th>cow</th>\n",
       "      <th>diningtable</th>\n",
       "      <th>dog</th>\n",
       "      <th>horse</th>\n",
       "      <th>motorbike</th>\n",
       "      <th>person</th>\n",
       "      <th>pottedplant</th>\n",
       "      <th>sheep</th>\n",
       "      <th>sofa</th>\n",
       "      <th>train</th>\n",
       "      <th>tvmonitor</th>\n",
       "    </tr>\n",
       "  </thead>\n",
       "  <tbody>\n",
       "    <tr>\n",
       "      <th>0</th>\n",
       "      <td>79.975</td>\n",
       "      <td>33.55</td>\n",
       "      <td>75.025</td>\n",
       "      <td>55.3</td>\n",
       "      <td>64.1125</td>\n",
       "      <td>79.9</td>\n",
       "      <td>76.125</td>\n",
       "      <td>79.25</td>\n",
       "      <td>25.65</td>\n",
       "      <td>66.7</td>\n",
       "      <td>52.9</td>\n",
       "      <td>74.375</td>\n",
       "      <td>67.525</td>\n",
       "      <td>77.6375</td>\n",
       "      <td>76.2375</td>\n",
       "      <td>50.55</td>\n",
       "      <td>75.6125</td>\n",
       "      <td>43.9375</td>\n",
       "      <td>72.6875</td>\n",
       "      <td>58.1625</td>\n",
       "    </tr>\n",
       "  </tbody>\n",
       "</table>\n",
       "</div>"
      ],
      "text/plain": [
       "   aeroplane  bicycle    bird  boat   bottle   bus     car    cat  chair  \\\n",
       "0     79.975    33.55  75.025  55.3  64.1125  79.9  76.125  79.25  25.65   \n",
       "\n",
       "    cow  diningtable     dog   horse  motorbike   person  pottedplant  \\\n",
       "0  66.7         52.9  74.375  67.525    77.6375  76.2375        50.55   \n",
       "\n",
       "     sheep     sofa    train  tvmonitor  \n",
       "0  75.6125  43.9375  72.6875    58.1625  "
      ]
     },
     "execution_count": 9,
     "metadata": {},
     "output_type": "execute_result"
    }
   ],
   "source": [
    "result_mean = result_df[result_df.index.isin(label_stats[0].index)]\n",
    "result_mean = result_mean.mean(axis=1)\n",
    "pd.DataFrame(result_mean).T"
   ]
  },
  {
   "cell_type": "code",
   "execution_count": 10,
   "id": "9f2b4906",
   "metadata": {},
   "outputs": [
    {
     "data": {
      "text/plain": [
       "<matplotlib.axes._subplots.AxesSubplot at 0x7fe7c358e2e0>"
      ]
     },
     "execution_count": 10,
     "metadata": {},
     "output_type": "execute_result"
    },
    {
     "data": {
      "image/png": "[encoded data removed]",
      "text/plain": [
       "<Figure size 1440x720 with 1 Axes>"
      ]
     },
     "metadata": {
      "needs_background": "light"
     },
     "output_type": "display_data"
    }
   ],
   "source": [
    "label_stats_df = pd.concat(label_stats+[result_mean], axis=1)\n",
    "label_stats_df.columns = \"freq_sum, proportion_mean, nz_proportion_mean, pixel_mean, nz_pixel_mean, result_mean\".split(\", \")\n",
    "\n",
    "normed_label_stats_df = (label_stats_df-label_stats_df.min())/(label_stats_df.max()-label_stats_df.min())\n",
    "\n",
    "normed_label_stats_df.plot(kind='bar', figsize=(20,10))\n"
   ]
  },
  {
   "cell_type": "code",
   "execution_count": 11,
   "id": "3d4ab7a3",
   "metadata": {},
   "outputs": [],
   "source": [
    "\n",
    "label_stats_df['freq_prop'] = label_stats_df['freq_sum'] * label_stats_df['proportion_mean']\n",
    "label_stats_df['freq_nz_prop'] = label_stats_df['freq_sum'] * label_stats_df['nz_proportion_mean']\n",
    "\n",
    "\n"
   ]
  },
  {
   "cell_type": "code",
   "execution_count": 12,
   "id": "ab0f5d11",
   "metadata": {},
   "outputs": [
    {
     "name": "stdout",
     "output_type": "stream",
     "text": [
      "['freq_sum', 'proportion_mean', 'nz_proportion_mean', 'pixel_mean', 'nz_pixel_mean', 'result_mean', 'freq_prop', 'freq_nz_prop']\n"
     ]
    }
   ],
   "source": [
    "cols = list(label_stats_df.columns)\n",
    "print(cols)"
   ]
  },
  {
   "cell_type": "code",
   "execution_count": 13,
   "id": "6d922658",
   "metadata": {},
   "outputs": [
    {
     "name": "stdout",
     "output_type": "stream",
     "text": [
      "pearsons correlation freq_sum: 0.1493\n",
      "pearsons correlation proportion_mean: 0.3560\n",
      "pearsons correlation nz_proportion_mean: 0.4676\n",
      "pearsons correlation pixel_mean: 0.3536\n",
      "pearsons correlation nz_pixel_mean: 0.4598\n",
      "pearsons correlation freq_prop: 0.2132\n",
      "pearsons correlation freq_nz_prop: 0.3560\n"
     ]
    }
   ],
   "source": [
    "for col in cols:\n",
    "    if col == 'result_mean':\n",
    "        continue\n",
    "    x = label_stats_df[col]\n",
    "    y = label_stats_df['result_mean']\n",
    "    corr = np.corrcoef(x,y)[0][1] \n",
    "    print(f\"pearsons correlation {col}: {corr:.4f}\", )\n"
   ]
  },
  {
   "cell_type": "code",
   "execution_count": 14,
   "id": "629c45fd",
   "metadata": {},
   "outputs": [
    {
     "name": "stdout",
     "output_type": "stream",
     "text": [
      "freq_sum pearsonr : 0.1493   pval : 0.5299\n",
      "freq_sum spearmanr : 0.1475   pval : 0.5348\n",
      "freq_sum kendalltau : 0.1220   pval : 0.4548\n",
      "\n",
      "proportion_mean pearsonr : 0.3560   pval : 0.1235\n",
      "proportion_mean spearmanr : 0.4060   pval : 0.0757\n",
      "proportion_mean kendalltau : 0.3053   pval : 0.0638\n",
      "\n",
      "nz_proportion_mean pearsonr : 0.4676   pval : 0.0376\n",
      "nz_proportion_mean spearmanr : 0.4436   pval : 0.0501\n",
      "nz_proportion_mean kendalltau : 0.3368   pval : 0.0398\n",
      "\n",
      "pixel_mean pearsonr : 0.3536   pval : 0.1262\n",
      "pixel_mean spearmanr : 0.4286   pval : 0.0594\n",
      "pixel_mean kendalltau : 0.3158   pval : 0.0548\n",
      "\n",
      "nz_pixel_mean pearsonr : 0.4598   pval : 0.0414\n",
      "nz_pixel_mean spearmanr : 0.3865   pval : 0.0923\n",
      "nz_pixel_mean kendalltau : 0.2842   pval : 0.0855\n",
      "\n"
     ]
    },
    {
     "data": {
      "text/plain": [
       "<matplotlib.legend.Legend at 0x7fe7c2804190>"
      ]
     },
     "execution_count": 14,
     "metadata": {},
     "output_type": "execute_result"
    },
    {
     "data": {
      "image/png": "[encoded data removed]",
      "text/plain": [
       "<Figure size 432x288 with 1 Axes>"
      ]
     },
     "metadata": {
      "needs_background": "light"
     },
     "output_type": "display_data"
    }
   ],
   "source": [
    "for col in cols:\n",
    "    if col == 'result_mean' or col not in normed_label_stats_df:\n",
    "        continue\n",
    "    x = normed_label_stats_df[col]\n",
    "    y = normed_label_stats_df['result_mean']\n",
    "    rho, pval = stats.pearsonr(x,y)\n",
    "    print(f\"{col} pearsonr : {rho:.4f}   pval : {pval:.4f}\")\n",
    "    rho, pval = stats.spearmanr(x,y)\n",
    "    print(f\"{col} spearmanr : {rho:.4f}   pval : {pval:.4f}\")\n",
    "    rho, pval = stats.kendalltau(x,y)\n",
    "    print(f\"{col} kendalltau : {rho:.4f}   pval : {pval:.4f}\")\n",
    "    print()\n",
    "    plt.scatter(x,y)\n",
    "    \n",
    "plt.legend((cols))"
   ]
  }
 ],
 "metadata": {
  "kernelspec": {
   "display_name": "my_env",
   "language": "python",
   "name": "my_env"
  },
  "language_info": {
   "codemirror_mode": {
    "name": "ipython",
    "version": 3
   },
   "file_extension": ".py",
   "mimetype": "text/x-python",
   "name": "python",
   "nbconvert_exporter": "python",
   "pygments_lexer": "ipython3",
   "version": "3.8.13"
  }
 },
 "nbformat": 4,
 "nbformat_minor": 5
}
