{
 "cells": [
  {
   "cell_type": "code",
   "execution_count": 1,
   "id": "5bcadf5e",
   "metadata": {},
   "outputs": [],
   "source": [
    "import os\n",
    "import glob\n",
    "import cv2\n",
    "import re\n",
    "import gc\n",
    "import matplotlib.pyplot as plt\n",
    "import pandas as pd\n",
    "import numpy as np\n",
    "from tqdm import tqdm\n",
    "from PIL import Image\n",
    "import os\n",
    "os.chdir('../../')"
   ]
  },
  {
   "cell_type": "code",
   "execution_count": 2,
   "id": "2c8c58fb",
   "metadata": {},
   "outputs": [],
   "source": [
    "train_list = open('./data/VOCdevkit/VOC2012/ImageSets/Segmentation/train.txt')\n",
    "train_list = train_list.readlines()\n",
    "\n",
    "test_list = open('./data/VOCdevkit/VOC2012/ImageSets/Segmentation/val.txt')\n",
    "test_list = test_list.readlines()\n",
    "                  \n",
    "train_list = [re.sub('\\n', '', f) for f in train_list]\n",
    "test_list = [re.sub('\\n', '', f) for f in test_list]\n",
    "\n",
    "train_df = pd.DataFrame(train_list, columns=['id'])\n",
    "test_df = pd.DataFrame(test_list, columns=['id'])\n",
    "\n",
    "train_df['ftype'] = 'train'\n",
    "test_df['ftype'] = 'test'\n",
    "\n",
    "data_df = pd.concat([train_df, test_df])\n"
   ]
  },
  {
   "cell_type": "code",
   "execution_count": 3,
   "id": "6b108961",
   "metadata": {},
   "outputs": [
    {
     "data": {
      "text/plain": [
       "<matplotlib.image.AxesImage at 0x7f03a338fb80>"
      ]
     },
     "execution_count": 3,
     "metadata": {},
     "output_type": "execute_result"
    },
    {
     "data": {
      "image/png": "[encoded data removed]",
      "text/plain": [
       "<Figure size 432x288 with 1 Axes>"
      ]
     },
     "metadata": {
      "needs_background": "light"
     },
     "output_type": "display_data"
    }
   ],
   "source": [
    "temp = './data/VOCdevkit/VOC2012/SegmentationClass/2007_000032.png'\n",
    "temp = Image.open(temp)\n",
    "plt.imshow(temp)"
   ]
  },
  {
   "cell_type": "code",
   "execution_count": 4,
   "id": "9c11c74c",
   "metadata": {},
   "outputs": [
    {
     "data": {
      "text/plain": [
       "array([  0,   1,  15, 255], dtype=uint8)"
      ]
     },
     "execution_count": 4,
     "metadata": {},
     "output_type": "execute_result"
    }
   ],
   "source": [
    "temp = np.array(temp)\n",
    "np.unique(temp)"
   ]
  },
  {
   "cell_type": "code",
   "execution_count": 5,
   "id": "143d83a9",
   "metadata": {},
   "outputs": [
    {
     "name": "stdout",
     "output_type": "stream",
     "text": [
      "17125\n",
      "2913\n",
      "2913\n"
     ]
    }
   ],
   "source": [
    "masks = glob.glob('./data/VOCdevkit/VOC2012/SegmentationClass/*')\n",
    "images = glob.glob('./data/VOCdevkit/VOC2012/JPEGImages/*')                  \n",
    "print(len(images))\n",
    "print(len(masks))\n",
    "print(len(data_df))"
   ]
  },
  {
   "cell_type": "code",
   "execution_count": 6,
   "id": "dc22c650",
   "metadata": {},
   "outputs": [
    {
     "name": "stdout",
     "output_type": "stream",
     "text": [
      "{'png'}\n",
      "{'jpg'}\n"
     ]
    }
   ],
   "source": [
    "print(set([m.split('.')[-1] for m in masks]))\n",
    "print(set([m.split('.')[-1] for m in images]))"
   ]
  },
  {
   "cell_type": "code",
   "execution_count": 7,
   "id": "45731ff7",
   "metadata": {},
   "outputs": [],
   "source": [
    "image_dir = './data/VOCdevkit/VOC2012/JPEGImages/'\n",
    "mask_dir = './data/VOCdevkit/VOC2012/SegmentationClass/'\n"
   ]
  },
  {
   "cell_type": "code",
   "execution_count": 8,
   "id": "782b92cb",
   "metadata": {},
   "outputs": [],
   "source": [
    "data_df['image_loc'] = image_dir + data_df['id'] + '.jpg'\n",
    "data_df['mask_loc'] = mask_dir + data_df['id'] + '.png'"
   ]
  },
  {
   "cell_type": "code",
   "execution_count": 9,
   "id": "8a04c483",
   "metadata": {},
   "outputs": [
    {
     "name": "stdout",
     "output_type": "stream",
     "text": [
      "1464\n",
      "1449\n"
     ]
    }
   ],
   "source": [
    "print(len(train_list))\n",
    "print(len(test_list))"
   ]
  },
  {
   "cell_type": "code",
   "execution_count": 10,
   "id": "8b3f8a21",
   "metadata": {},
   "outputs": [],
   "source": [
    "# data_df.to_csv('.data_df.csv', index=False)"
   ]
  },
  {
   "cell_type": "code",
   "execution_count": 11,
   "id": "bd5178e9",
   "metadata": {},
   "outputs": [],
   "source": [
    "# label number infromation from\n",
    "# https://bo-10000.tistory.com/38\n",
    "\n",
    "labels_num = \"\"\"Aeroplane\t1\n",
    "Bicycle\t2\n",
    "Bird\t3\n",
    "Boat\t4\n",
    "Bottle\t5\n",
    "Bus\t6\n",
    "Car\t7\n",
    "Cat\t8\n",
    "Chair\t9\n",
    "Cow\t10\n",
    "Diningtable\t11\n",
    "Dog\t12\n",
    "Horse\t13\n",
    "Motorbike\t14\n",
    "Person\t15\n",
    "Pottedplant\t16\n",
    "Sheep\t17\n",
    "Sofa\t18\n",
    "Train\t19\n",
    "Tvmonitor\t20\"\"\"\n",
    "\n",
    "labels_num = labels_num.lower().split('\\n')\n",
    "labels_num = [c.split('\\t') for c in labels_num]\n",
    "labels_num = np.array(labels_num)\n",
    "label2num = dict(zip(labels_num[:,0], labels_num[:,1].astype(int)))\n",
    "label2num['background'] = 0\n",
    "label2num['border'] = 255\n",
    "\n",
    "num2label = dict(zip(label2num.values(), label2num.keys()))\n",
    "\n",
    "\n",
    "label_dict = {\n",
    "    'label2num': label2num,\n",
    "    'num2label': num2label\n",
    "}\n",
    "import pickle\n",
    "\n",
    "label_dict_loc = './label_dict.pkl'\n",
    "\n",
    "with open(label_dict_loc, 'wb') as f:\n",
    "    pickle.dump(label_dict, f)\n",
    "\n",
    "# with open(label_dict_loc, 'rb') as f:\n",
    "#     check_dict = pickle.load(f)\n",
    "# print(check_dict)"
   ]
  },
  {
   "cell_type": "code",
   "execution_count": 12,
   "id": "17ba147b",
   "metadata": {},
   "outputs": [
    {
     "name": "stderr",
     "output_type": "stream",
     "text": [
      "100%|██████████████████████████████████████████████| 2913/2913 [00:06<00:00, 422.97it/s]\n"
     ]
    }
   ],
   "source": [
    "info_dict = {}\n",
    "\n",
    "for i in tqdm(range(len(data_df))):\n",
    "    cur_id = data_df.iloc[i]['id']\n",
    "    img_loc = data_df.iloc[i]['image_loc']\n",
    "    mask_loc = data_df.iloc[i]['mask_loc']\n",
    "\n",
    "\n",
    "    # image = cv2.imread(img_loc)\n",
    "    # image = image[:,:,::-1]\n",
    "\n",
    "    mask = np.array(Image.open(mask_loc))\n",
    "    mask_nums = np.unique(mask)\n",
    "\n",
    "    h, w = mask.shape\n",
    "    cur_meta = {}\n",
    "\n",
    "    cur_meta['height'] = h\n",
    "    cur_meta['width'] = w\n",
    "    cur_meta['area'] = h * w\n",
    "\n",
    "\n",
    "    for k in label2num.keys():\n",
    "        cur_meta[f'{k}_sum'] = 0\n",
    "\n",
    "    for num in mask_nums:\n",
    "        pix_sum = np.sum(mask == num)\n",
    "        cur_meta[f'{num2label[num]}_sum'] = pix_sum\n",
    "\n",
    "    \n",
    "    info_dict[cur_id] = cur_meta\n"
   ]
  },
  {
   "cell_type": "code",
   "execution_count": 13,
   "id": "835e3dfc",
   "metadata": {},
   "outputs": [],
   "source": [
    "\n",
    "meta_df = pd.DataFrame(info_dict).T.reset_index()\n",
    "meta_df = meta_df.rename(columns={'index':'id'})\n",
    "meta_df = pd.merge(data_df, meta_df, on='id')"
   ]
  },
  {
   "cell_type": "code",
   "execution_count": 16,
   "id": "fefbe655",
   "metadata": {},
   "outputs": [],
   "source": [
    "# meta_df.to_csv('./meta_df.csv', index=False)"
   ]
  },
  {
   "cell_type": "code",
   "execution_count": 10,
   "id": "91ff85a8",
   "metadata": {},
   "outputs": [
    {
     "data": {
      "text/html": [
       "<div>\n",
       "<style scoped>\n",
       "    .dataframe tbody tr th:only-of-type {\n",
       "        vertical-align: middle;\n",
       "    }\n",
       "\n",
       "    .dataframe tbody tr th {\n",
       "        vertical-align: top;\n",
       "    }\n",
       "\n",
       "    .dataframe thead th {\n",
       "        text-align: right;\n",
       "    }\n",
       "</style>\n",
       "<table border=\"1\" class=\"dataframe\">\n",
       "  <thead>\n",
       "    <tr style=\"text-align: right;\">\n",
       "      <th></th>\n",
       "      <th>0</th>\n",
       "    </tr>\n",
       "  </thead>\n",
       "  <tbody>\n",
       "    <tr>\n",
       "      <th>aeroplane_cnt</th>\n",
       "      <td>88</td>\n",
       "    </tr>\n",
       "    <tr>\n",
       "      <th>bicycle_cnt</th>\n",
       "      <td>65</td>\n",
       "    </tr>\n",
       "    <tr>\n",
       "      <th>bird_cnt</th>\n",
       "      <td>105</td>\n",
       "    </tr>\n",
       "    <tr>\n",
       "      <th>boat_cnt</th>\n",
       "      <td>78</td>\n",
       "    </tr>\n",
       "    <tr>\n",
       "      <th>bottle_cnt</th>\n",
       "      <td>87</td>\n",
       "    </tr>\n",
       "    <tr>\n",
       "      <th>bus_cnt</th>\n",
       "      <td>78</td>\n",
       "    </tr>\n",
       "    <tr>\n",
       "      <th>car_cnt</th>\n",
       "      <td>128</td>\n",
       "    </tr>\n",
       "    <tr>\n",
       "      <th>cat_cnt</th>\n",
       "      <td>131</td>\n",
       "    </tr>\n",
       "    <tr>\n",
       "      <th>chair_cnt</th>\n",
       "      <td>148</td>\n",
       "    </tr>\n",
       "    <tr>\n",
       "      <th>cow_cnt</th>\n",
       "      <td>64</td>\n",
       "    </tr>\n",
       "    <tr>\n",
       "      <th>diningtable_cnt</th>\n",
       "      <td>82</td>\n",
       "    </tr>\n",
       "    <tr>\n",
       "      <th>dog_cnt</th>\n",
       "      <td>121</td>\n",
       "    </tr>\n",
       "    <tr>\n",
       "      <th>horse_cnt</th>\n",
       "      <td>68</td>\n",
       "    </tr>\n",
       "    <tr>\n",
       "      <th>motorbike_cnt</th>\n",
       "      <td>81</td>\n",
       "    </tr>\n",
       "    <tr>\n",
       "      <th>person_cnt</th>\n",
       "      <td>442</td>\n",
       "    </tr>\n",
       "    <tr>\n",
       "      <th>pottedplant_cnt</th>\n",
       "      <td>82</td>\n",
       "    </tr>\n",
       "    <tr>\n",
       "      <th>sheep_cnt</th>\n",
       "      <td>63</td>\n",
       "    </tr>\n",
       "    <tr>\n",
       "      <th>sofa_cnt</th>\n",
       "      <td>93</td>\n",
       "    </tr>\n",
       "    <tr>\n",
       "      <th>train_cnt</th>\n",
       "      <td>83</td>\n",
       "    </tr>\n",
       "    <tr>\n",
       "      <th>tvmonitor_cnt</th>\n",
       "      <td>83</td>\n",
       "    </tr>\n",
       "  </tbody>\n",
       "</table>\n",
       "</div>"
      ],
      "text/plain": [
       "                   0\n",
       "aeroplane_cnt     88\n",
       "bicycle_cnt       65\n",
       "bird_cnt         105\n",
       "boat_cnt          78\n",
       "bottle_cnt        87\n",
       "bus_cnt           78\n",
       "car_cnt          128\n",
       "cat_cnt          131\n",
       "chair_cnt        148\n",
       "cow_cnt           64\n",
       "diningtable_cnt   82\n",
       "dog_cnt          121\n",
       "horse_cnt         68\n",
       "motorbike_cnt     81\n",
       "person_cnt       442\n",
       "pottedplant_cnt   82\n",
       "sheep_cnt         63\n",
       "sofa_cnt          93\n",
       "train_cnt         83\n",
       "tvmonitor_cnt     83"
      ]
     },
     "execution_count": 10,
     "metadata": {},
     "output_type": "execute_result"
    }
   ],
   "source": [
    "train_df = pd.read_csv('./data/train_df.csv', index_col=0)\n",
    "cnt_cols = [i for i in train_df.columns if 'cnt' in i]\n",
    "cnt_cols = [i for i in cnt_cols if not ('background' in i) and not ('border' in i)]\n",
    "pd.DataFrame(train_df[cnt_cols].sum())\n"
   ]
  },
  {
   "cell_type": "code",
   "execution_count": 17,
   "id": "a72d1bcf",
   "metadata": {},
   "outputs": [],
   "source": [
    "sum_cols = [i for i in train_df.columns if 'sum' in i]\n",
    "sum_cols = [i for i in sum_cols if not ('background' in i) and not ('border' in i)]\n",
    "\n"
   ]
  },
  {
   "cell_type": "code",
   "execution_count": 29,
   "id": "85c0cfd8",
   "metadata": {},
   "outputs": [
    {
     "data": {
      "text/plain": [
       "<matplotlib.axes._subplots.AxesSubplot at 0x7f4398c16df0>"
      ]
     },
     "execution_count": 29,
     "metadata": {},
     "output_type": "execute_result"
    },
    {
     "data": {
      "image/png": "[encoded data removed]",
      "text/plain": [
       "<Figure size 432x288 with 1 Axes>"
      ]
     },
     "metadata": {
      "needs_background": "light"
     },
     "output_type": "display_data"
    }
   ],
   "source": [
    "pd.DataFrame(train_df[sum_cols].sum()).plot(kind='bar')"
   ]
  },
  {
   "cell_type": "code",
   "execution_count": 32,
   "id": "a0409007",
   "metadata": {},
   "outputs": [],
   "source": [
    "prop_cols = [i for i in train_df.columns if 'prop' in i]\n",
    "prop_cols = [i for i in prop_cols if not ('background' in i) and not ('border' in i)]\n",
    "\n"
   ]
  },
  {
   "cell_type": "code",
   "execution_count": 33,
   "id": "651cb4b2",
   "metadata": {},
   "outputs": [
    {
     "data": {
      "text/plain": [
       "<matplotlib.axes._subplots.AxesSubplot at 0x7f4398bdf6a0>"
      ]
     },
     "execution_count": 33,
     "metadata": {},
     "output_type": "execute_result"
    },
    {
     "data": {
      "image/png": "[encoded data removed]",
      "text/plain": [
       "<Figure size 432x288 with 1 Axes>"
      ]
     },
     "metadata": {
      "needs_background": "light"
     },
     "output_type": "display_data"
    }
   ],
   "source": [
    "pd.DataFrame(train_df[prop_cols].mean()).plot(kind='bar')"
   ]
  },
  {
   "cell_type": "markdown",
   "id": "e2bae8ef",
   "metadata": {},
   "source": [
    "- https://www.researchgate.net/figure/Evaluation-results-of-the-PASCAL-VOC-2012-test-set_tbl1_315635038"
   ]
  },
  {
   "cell_type": "code",
   "execution_count": 109,
   "id": "0b8516b1",
   "metadata": {},
   "outputs": [],
   "source": [
    "results_a = \"\"\"Method Bkg Aero Bike Bird Boat Bottle Bus Car Cat Chair Cow\n",
    "FCN-8s 91.2 76.8 34.2 68.9 49.4 60.3 75.3 74.7 77.6 21.4 62.5\n",
    "FCN-GS 90.9 80.4 33.4 70.8 53.0 62.9 79.7 76.4 79.1 24.0 65.4\n",
    "FCN-GS-v2 91.3 79.8 33.9 74.0 55.6 64.7 79.1 76.8 80.3 25.3 65.7\n",
    "FCN-DBSCAN 91.2 82.2 33.1 73.3 55.6 63.3 79.8 76.1 78.3 24.5 64.8\n",
    "FCN-DBSCAN-v2 92.0 78.5 32.4 76.9 56.6 64.6 80.6 74.7 77.8 26.7 68.4\n",
    "DeepLab-CRF 92.1 78.4 33.1 78.2 55.6 65.3 81.3 75.5 78.6 25.3 69.2\n",
    "DeepLab-CRF-GS 92.3 81.4 34.1 79.1 58.3 65.8 81.3 77.1 80.5 28.9 69.1\n",
    "DeepLab-CRF-GS-v2 92.3 82.3 34.2 79.0 58.3 66.0 82.1 77.7 81.8 29.1 68.5\"\"\"\n",
    "\n",
    "results_b = \"\"\"Method Table Dog Horse Mbk Person Plant Sheep Sofa Train TV Mean\n",
    "FCN-8s 46.8 71.8 63.9 76.5 73.9 45.2 72.4 37.4 70.9 55.1 62.2\n",
    "FCN-GS 52.9 73.6 66.9 75.6 75.2 46.9 72.5 42.0 70.6 59.6 64.4\n",
    "FCN-GS-v2 52.7 74.0 67.3 76.0 75.4 48.8 74.7 44.2 72.6 58.8 65.3\n",
    "FCN-DBSCAN 53.6 73.9 66.6 76.9 75.0 47.6 73.2 43.4 73.2 59.0 65.0\n",
    "FCN-DBSCAN-v2 52.1 73.6 68.6 78.4 76.8 54.0 76.9 46.1 72.2 57.3 65.9\n",
    "DeepLab-CRF 52.7 75.2 69.0 79.1 77.6 54.7 78.3 45.1 73.3 56.2 66.4\n",
    "DeepLab-CRF-GS 56.1 75.9 68.8 78.9 78.0 53.7 78.7 46.3 73.8 58.9 67.5\n",
    "DeepLab-CRF-GS-v2 56.3 77.0 69.1 79.7 78.0 53.5 78.2 47.0 74.9 60.4 67.9\"\"\"\n",
    "\n",
    "results_a = results_a.split('\\n')\n",
    "results_b = results_b.split('\\n')\n",
    "results_a = [i.split() for i in results_a]\n",
    "results_b = [i.split() for i in results_b]\n",
    "\n",
    "df_a = pd.DataFrame(results_a[1:], columns=results_a[0])\n",
    "df_b = pd.DataFrame(results_b[1:], columns=results_b[0])\n",
    "\n",
    "df_a = df_a.T\n",
    "df_a.columns = df_a.iloc[0]\n",
    "df_a = df_a.iloc[1:]\n",
    "\n",
    "df_b = df_b.T\n",
    "df_b.columns = df_b.iloc[0]\n",
    "df_b = df_b.iloc[1:]\n",
    "\n",
    "result_df = pd.concat([df_a,df_b])\n",
    "result_df = result_df.astype(float)"
   ]
  },
  {
   "cell_type": "code",
   "execution_count": 110,
   "id": "7bf4eca4",
   "metadata": {},
   "outputs": [],
   "source": [
    "from utils.util import get_labedict\n",
    "labeldict = get_labedict()\n",
    "label2num = labeldict['label2num']\n",
    "num2label = labeldict['num2label']\n",
    "labels = ['background']+list(label2num.keys())[:-2]"
   ]
  },
  {
   "cell_type": "code",
   "execution_count": 113,
   "id": "5138ce32",
   "metadata": {},
   "outputs": [],
   "source": [
    "\n",
    "result_df.index = labels + ['mean']"
   ]
  },
  {
   "cell_type": "code",
   "execution_count": 126,
   "id": "be5069fd",
   "metadata": {},
   "outputs": [],
   "source": [
    "result = result_df['DeepLab-CRF-GS-v2'].values[1:-1] # remove background, mean\n",
    "prop_mean = train_df[prop_cols].mean().values # non-zero mean\n",
    "pix_sum = train_df[sum_cols].sum()\n"
   ]
  },
  {
   "cell_type": "code",
   "execution_count": 133,
   "id": "9beaa687",
   "metadata": {},
   "outputs": [
    {
     "data": {
      "text/plain": [
       "array([[1.        , 0.35477797],\n",
       "       [0.35477797, 1.        ]])"
      ]
     },
     "execution_count": 133,
     "metadata": {},
     "output_type": "execute_result"
    }
   ],
   "source": [
    "data = np.array([result, prop_mean])\n",
    "np.corrcoef(data[0][1])"
   ]
  },
  {
   "cell_type": "code",
   "execution_count": 134,
   "id": "dec9b12f",
   "metadata": {},
   "outputs": [
    {
     "name": "stderr",
     "output_type": "stream",
     "text": [
      "/home/nys/anaconda3/envs/my_env/lib/python3.8/site-packages/numpy/lib/function_base.py:2821: RuntimeWarning: Degrees of freedom <= 0 for slice\n",
      "  c = cov(x, y, rowvar, dtype=dtype)\n",
      "/home/nys/anaconda3/envs/my_env/lib/python3.8/site-packages/numpy/lib/function_base.py:2680: RuntimeWarning: divide by zero encountered in true_divide\n",
      "  c *= np.true_divide(1, fact)\n",
      "/home/nys/anaconda3/envs/my_env/lib/python3.8/site-packages/numpy/lib/function_base.py:2680: RuntimeWarning: invalid value encountered in multiply\n",
      "  c *= np.true_divide(1, fact)\n"
     ]
    },
    {
     "data": {
      "text/plain": [
       "nan"
      ]
     },
     "execution_count": 134,
     "metadata": {},
     "output_type": "execute_result"
    }
   ],
   "source": [
    "data = np.array([result, pix_sum])\n",
    "np.corrcoef(data[0][1])"
   ]
  },
  {
   "cell_type": "code",
   "execution_count": 146,
   "id": "8d4e5ed4",
   "metadata": {},
   "outputs": [],
   "source": [
    "def calc_corr(a, b):\n",
    "    cov = np.cov(a, b, ddof=len(a)-1)\n",
    "    a_sd = np.std(a, ddof=len(a)-1)\n",
    "    b_sd = np.std(b, ddof=len(b)-1)\n",
    "    return (cov/(a_sd * b_sd))"
   ]
  },
  {
   "cell_type": "code",
   "execution_count": 147,
   "id": "391b030a",
   "metadata": {},
   "outputs": [
    {
     "data": {
      "text/plain": [
       "array([[1.53591764e+05, 3.52824292e-01],\n",
       "       [3.52824292e-01, 6.51076578e-06]])"
      ]
     },
     "execution_count": 147,
     "metadata": {},
     "output_type": "execute_result"
    }
   ],
   "source": [
    "calc_corr(pix_sum, result)"
   ]
  },
  {
   "cell_type": "markdown",
   "id": "cf3b7da3",
   "metadata": {},
   "source": [
    "# for copy & paste"
   ]
  },
  {
   "cell_type": "code",
   "execution_count": 18,
   "id": "1c850d45",
   "metadata": {},
   "outputs": [],
   "source": [
    "img_loc = data_df.iloc[0]['image_loc']\n",
    "mask_loc = data_df.iloc[0]['mask_loc']"
   ]
  },
  {
   "cell_type": "code",
   "execution_count": 19,
   "id": "b3d13a7b",
   "metadata": {},
   "outputs": [],
   "source": [
    "image = cv2.imread(img_loc)\n",
    "image = image[:,:,::-1]\n",
    "\n",
    "mask = np.array(Image.open(mask_loc))\n",
    "\n",
    "mask_classes = np.unique(mask)\n"
   ]
  },
  {
   "cell_type": "code",
   "execution_count": 21,
   "id": "096a7882",
   "metadata": {},
   "outputs": [
    {
     "data": {
      "text/plain": [
       "<matplotlib.image.AxesImage at 0x7f03a18a22b0>"
      ]
     },
     "execution_count": 21,
     "metadata": {},
     "output_type": "execute_result"
    },
    {
     "data": {
      "image/png": "[encoded data removed]",
      "text/plain": [
       "<Figure size 432x288 with 1 Axes>"
      ]
     },
     "metadata": {
      "needs_background": "light"
     },
     "output_type": "display_data"
    }
   ],
   "source": [
    "airplane = (mask == 1).astype(np.uint8)\n",
    "airplane_xy = np.where(airplane == 1)\n",
    "\n",
    "kernel = np.ones((7,7), np.uint8)\n",
    "result = cv2.dilate(airplane, kernel, iterations = 1)\n",
    "result[airplane_xy] = 0\n",
    "plt.imshow(result)"
   ]
  },
  {
   "cell_type": "code",
   "execution_count": 22,
   "id": "8430c1db",
   "metadata": {},
   "outputs": [
    {
     "data": {
      "text/plain": [
       "<matplotlib.image.AxesImage at 0x7f03a1d55d30>"
      ]
     },
     "execution_count": 22,
     "metadata": {},
     "output_type": "execute_result"
    },
    {
     "data": {
      "image/png": "[encoded data removed]",
      "text/plain": [
       "<Figure size 432x288 with 1 Axes>"
      ]
     },
     "metadata": {
      "needs_background": "light"
     },
     "output_type": "display_data"
    }
   ],
   "source": [
    "plt.imshow(mask==255)"
   ]
  },
  {
   "cell_type": "markdown",
   "id": "83fee4a4",
   "metadata": {},
   "source": [
    "- https://jhtechblog.tistory.com/entry/ErosionDilationOpeningClosingOpenc\n",
    "- "
   ]
  },
  {
   "cell_type": "code",
   "execution_count": 24,
   "id": "08c7f041",
   "metadata": {},
   "outputs": [
    {
     "data": {
      "text/plain": [
       "<matplotlib.image.AxesImage at 0x7f03a1b8a310>"
      ]
     },
     "execution_count": 24,
     "metadata": {},
     "output_type": "execute_result"
    },
    {
     "data": {
      "image/png": "[encoded data removed]",
      "text/plain": [
       "<Figure size 432x288 with 1 Axes>"
      ]
     },
     "metadata": {
      "needs_background": "light"
     },
     "output_type": "display_data"
    }
   ],
   "source": [
    "\n",
    "contours, hierarchy = cv2.findContours(airplane, cv2.RETR_EXTERNAL, cv2.CHAIN_APPROX_NONE) \n",
    "\n",
    "contour_img = cv2.drawContours(airplane.copy(), contours, -1, (0,255,0), 1)\n",
    "plt.imshow(contour_img)\n",
    "\n",
    "\n"
   ]
  },
  {
   "cell_type": "code",
   "execution_count": 25,
   "id": "1851749c",
   "metadata": {},
   "outputs": [
    {
     "data": {
      "text/plain": [
       "<matplotlib.image.AxesImage at 0x7f03a1a91370>"
      ]
     },
     "execution_count": 25,
     "metadata": {},
     "output_type": "execute_result"
    },
    {
     "data": {
      "image/png": "[encoded data removed]",
      "text/plain": [
       "<Figure size 432x288 with 1 Axes>"
      ]
     },
     "metadata": {
      "needs_background": "light"
     },
     "output_type": "display_data"
    }
   ],
   "source": [
    "\n",
    "contours, hierarchy = cv2.findContours(airplane, cv2.RETR_EXTERNAL, cv2.CHAIN_APPROX_NONE) \n",
    "\n",
    "contour_img = cv2.drawContours(airplane.copy(), contours, -1, (0,255,0), 3)\n",
    "plt.imshow(contour_img)\n",
    "\n",
    "\n"
   ]
  },
  {
   "cell_type": "code",
   "execution_count": 26,
   "id": "e6c8a420",
   "metadata": {},
   "outputs": [
    {
     "data": {
      "text/plain": [
       "(281, 500)"
      ]
     },
     "execution_count": 26,
     "metadata": {},
     "output_type": "execute_result"
    }
   ],
   "source": [
    "contour_img.shape"
   ]
  },
  {
   "cell_type": "code",
   "execution_count": 27,
   "id": "37166345",
   "metadata": {},
   "outputs": [],
   "source": [
    "from skimage import segmentation"
   ]
  },
  {
   "cell_type": "code",
   "execution_count": 28,
   "id": "46f53e23",
   "metadata": {},
   "outputs": [
    {
     "data": {
      "text/plain": [
       "<matplotlib.image.AxesImage at 0x7f03867c68e0>"
      ]
     },
     "execution_count": 28,
     "metadata": {},
     "output_type": "execute_result"
    },
    {
     "data": {
      "image/png": "[encoded data removed]",
      "text/plain": [
       "<Figure size 432x288 with 1 Axes>"
      ]
     },
     "metadata": {
      "needs_background": "light"
     },
     "output_type": "display_data"
    }
   ],
   "source": [
    "\n",
    "a = segmentation.find_boundaries(airplane, mode='outer')\n",
    "\n",
    "plt.imshow(a)\n"
   ]
  },
  {
   "cell_type": "markdown",
   "id": "d3905bb6",
   "metadata": {},
   "source": [
    "# check"
   ]
  },
  {
   "cell_type": "code",
   "execution_count": 29,
   "id": "ee8c5e83",
   "metadata": {},
   "outputs": [
    {
     "name": "stdout",
     "output_type": "stream",
     "text": [
      "1.43 ms ± 5.29 µs per loop (mean ± std. dev. of 7 runs, 1,000 loops each)\n"
     ]
    }
   ],
   "source": [
    "%%timeit \n",
    "image = cv2.imread(img_loc)\n",
    "image = image[:,:,::-1]"
   ]
  },
  {
   "cell_type": "code",
   "execution_count": 30,
   "id": "1bdcf0d7",
   "metadata": {},
   "outputs": [
    {
     "name": "stdout",
     "output_type": "stream",
     "text": [
      "2.02 ms ± 141 µs per loop (mean ± std. dev. of 7 runs, 1,000 loops each)\n"
     ]
    }
   ],
   "source": [
    "%%timeit \n",
    "image = cv2.imread(img_loc)\n",
    "image = cv2.cvtColor(image, cv2.COLOR_BGR2RGB)"
   ]
  },
  {
   "cell_type": "code",
   "execution_count": 31,
   "id": "bf1e12ea",
   "metadata": {},
   "outputs": [
    {
     "name": "stdout",
     "output_type": "stream",
     "text": [
      "139653117991792\n",
      "139653596293712\n"
     ]
    }
   ],
   "source": [
    "image = cv2.imread(img_loc)\n",
    "print(id(image))\n",
    "image = image[:,:,::-1]\n",
    "print(id(image))"
   ]
  },
  {
   "cell_type": "code",
   "execution_count": 32,
   "id": "a2534a14",
   "metadata": {},
   "outputs": [
    {
     "name": "stdout",
     "output_type": "stream",
     "text": [
      "139653117992848\n",
      "139653596293712\n"
     ]
    }
   ],
   "source": [
    "image = cv2.imread(img_loc)\n",
    "print(id(image))\n",
    "image = cv2.cvtColor(image, cv2.COLOR_BGR2RGB)\n",
    "print(id(image))"
   ]
  }
 ],
 "metadata": {
  "kernelspec": {
   "display_name": "my_env",
   "language": "python",
   "name": "my_env"
  },
  "language_info": {
   "codemirror_mode": {
    "name": "ipython",
    "version": 3
   },
   "file_extension": ".py",
   "mimetype": "text/x-python",
   "name": "python",
   "nbconvert_exporter": "python",
   "pygments_lexer": "ipython3",
   "version": "3.8.13"
  }
 },
 "nbformat": 4,
 "nbformat_minor": 5
}
